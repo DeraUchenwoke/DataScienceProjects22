{
 "cells": [
  {
   "cell_type": "markdown",
   "metadata": {},
   "source": [
    "<h2 id=\"better\">Exercises</h2>"
   ]
  },
  {
   "cell_type": "markdown",
   "metadata": {},
   "source": [
    "1. Create your own text file with some contents and save it to your Python program path."
   ]
  },
  {
   "cell_type": "code",
   "execution_count": 15,
   "metadata": {},
   "outputs": [],
   "source": [
    "with open('test2.txt', 'w') as f:\n",
    "    f.write('This is new content!\\nSay hello\\nNever mind')"
   ]
  },
  {
   "cell_type": "markdown",
   "metadata": {},
   "source": [
    "2. Write a Python program to read your created text file."
   ]
  },
  {
   "cell_type": "code",
   "execution_count": 16,
   "metadata": {},
   "outputs": [
    {
     "name": "stdout",
     "output_type": "stream",
     "text": [
      "This is new content!\n",
      "Say hello\n",
      "Never mind\n"
     ]
    }
   ],
   "source": [
    "with open('test2.txt', 'r') as f:\n",
    "    print(f.read())\n"
   ]
  },
  {
   "cell_type": "markdown",
   "metadata": {},
   "source": [
    "3. Write a Python program to read first n lines of the file."
   ]
  },
  {
   "cell_type": "code",
   "execution_count": 17,
   "metadata": {},
   "outputs": [
    {
     "name": "stdout",
     "output_type": "stream",
     "text": [
      "This is new content!\n",
      "\n",
      "Say hello\n",
      "\n"
     ]
    }
   ],
   "source": [
    "numLines = int(input('Enter number of lines to read: '))\n",
    "\n",
    "# note: numlines < 3\n",
    "with open('test2.txt', 'r') as f:\n",
    "    for i in range(0, numLines):\n",
    "        print(f.readline())"
   ]
  },
  {
   "cell_type": "markdown",
   "metadata": {},
   "source": [
    "4. Write a Python program to append new text to the file and display the text. "
   ]
  },
  {
   "cell_type": "code",
   "execution_count": 18,
   "metadata": {},
   "outputs": [
    {
     "name": "stdout",
     "output_type": "stream",
     "text": [
      "This is new content!\n",
      "Say hello\n",
      "Never mind\n",
      "Another one\n"
     ]
    }
   ],
   "source": [
    "with open('test2.txt', 'a') as f:\n",
    "    f.write('\\nAnother one')\n",
    "\n",
    "with open('test2.txt', 'r') as f:\n",
    "    print(f.read())\n"
   ]
  },
  {
   "cell_type": "markdown",
   "metadata": {},
   "source": [
    "5. Write a Python program to read the file line by line and store it into a list. You may find the [**readlines()**](https://python-reference.readthedocs.io/en/latest/docs/file/readlines.html) method useful."
   ]
  },
  {
   "cell_type": "code",
   "execution_count": 29,
   "metadata": {},
   "outputs": [
    {
     "name": "stdout",
     "output_type": "stream",
     "text": [
      "['This is new content!\\n', 'Say hello\\n', 'Never mind\\n', 'Another one']\n",
      "['This is new content!', 'Say hello', 'Never mind', 'Another one']\n"
     ]
    }
   ],
   "source": [
    "with open('test2.txt', 'r') as f:\n",
    "    lines = f.readlines()\n",
    "    print(lines)\n",
    "\n",
    "# with strip (i.e. gets rid of \\n)\n",
    "\n",
    "with open('test2.txt', 'r') as f:\n",
    "    lines = [line.strip('\\n') for line in f] # list comprehension\n",
    "    print(lines)\n"
   ]
  },
  {
   "cell_type": "markdown",
   "metadata": {},
   "source": [
    "6. Write a Python program that allows you to create a new file on current path called myfile.txt and write on it the content 'File operations in Python programming language'. Then, write a Python program to read the myfile.txt to check the content. "
   ]
  },
  {
   "cell_type": "code",
   "execution_count": 30,
   "metadata": {},
   "outputs": [
    {
     "name": "stdout",
     "output_type": "stream",
     "text": [
      "File operations in Python programming language\n"
     ]
    }
   ],
   "source": [
    "# write content into file\n",
    "with open('myfile.txt', 'w') as f:\n",
    "    f.write('File operations in Python programming language')\n",
    "\n",
    "# read file content\n",
    "with open('myfile.txt', 'r') as f:\n",
    "    print(f.read())"
   ]
  },
  {
   "cell_type": "markdown",
   "metadata": {},
   "source": [
    "7. 1) Write a Python program that writes the following three lines to the myfile2.txt file (you may find the [**writelines()**](https://python-reference.readthedocs.io/en/latest/docs/file/writelines.html) method useful.):\n",
    "\n",
    "This is the First line\n",
    "\n",
    "This is the Second line\n",
    "\n",
    "This is the Third line\n",
    "\n",
    "2) Then, replace the second line with the line:  \"The line content has been changed!\""
   ]
  },
  {
   "cell_type": "code",
   "execution_count": 46,
   "metadata": {},
   "outputs": [
    {
     "name": "stdout",
     "output_type": "stream",
     "text": [
      "This is the First line\n",
      "The line content has been changed!\n",
      "This is the Third line\n"
     ]
    }
   ],
   "source": [
    "# 1. \n",
    "with open('myfile2.txt', 'w') as f:\n",
    "    f.writelines(['This is the First line\\n', 'This is the Second line\\n', 'This is the Third line'])\n",
    "\n",
    "'''\n",
    "# To check its been written into the file correctly\n",
    "with open('myfile2.txt', 'r') as f:\n",
    "    print(f.read())\n",
    "'''\n",
    "# 2. \n",
    "\n",
    "# changes the contents of the second line\n",
    "with open('myfile2.txt' , 'r') as f:\n",
    "    lines = f.readlines()\n",
    "    lines[1] = 'The line content has been changed!\\n'\n",
    "\n",
    "# then open the file in write mode and add the modified lines in\n",
    "with open('myfile2.txt' , 'w') as f:\n",
    "    f.writelines(lines)\n",
    "\n",
    "# To check its been written into the file correctly\n",
    "with open('myfile2.txt', 'r') as f:\n",
    "    print(f.read())\n",
    "\n"
   ]
  }
 ],
 "metadata": {
  "kernelspec": {
   "display_name": "Python 3.6.8 64-bit",
   "language": "python",
   "name": "python3"
  },
  "language_info": {
   "codemirror_mode": {
    "name": "ipython",
    "version": 3
   },
   "file_extension": ".py",
   "mimetype": "text/x-python",
   "name": "python",
   "nbconvert_exporter": "python",
   "pygments_lexer": "ipython3",
   "version": "3.6.8"
  },
  "vscode": {
   "interpreter": {
    "hash": "65941516f1007360cc73503517f11d28cf4250adaeef93888879502262634ca8"
   }
  }
 },
 "nbformat": 4,
 "nbformat_minor": 2
}
