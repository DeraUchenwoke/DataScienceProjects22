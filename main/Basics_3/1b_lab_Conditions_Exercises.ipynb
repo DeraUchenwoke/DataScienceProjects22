{
 "cells": [
  {
   "cell_type": "markdown",
   "metadata": {},
   "source": [
    "## Exercises\n"
   ]
  },
  {
   "cell_type": "markdown",
   "metadata": {},
   "source": [
    "## Excercise 1\n",
    "Suppose you have integer variables x = 5 , y =7, and two string variables a ='sunday', b = 'Morning'. Write a boolean expression capturing the meaning of each statement below, and print the value of the expression. The first one is done as an example.\n",
    "\n",
    "1. x is at least 5\n",
    "\n",
    "2. x is equal to 6\n",
    "\n",
    "3. y is positive\n",
    "\n",
    "4. x is less than or equal to y\n",
    "\n",
    "5. the sum of x and y is 42\n",
    "\n",
    "6. a is equal to b \n",
    "\n",
    "7. a is “Moring”"
   ]
  },
  {
   "cell_type": "code",
   "execution_count": 1,
   "metadata": {},
   "outputs": [
    {
     "name": "stdout",
     "output_type": "stream",
     "text": [
      "True\n",
      "False\n",
      "True\n",
      "True\n",
      "False\n",
      "False\n",
      "False\n"
     ]
    }
   ],
   "source": [
    "# please write your code here\n",
    "# variables \n",
    "x = 5\n",
    "y = 7\n",
    "a = 'sunday'\n",
    "b = 'Morning'\n",
    "\n",
    "# 1. \n",
    "print(x >= 5)\n",
    "\n",
    "#2. \n",
    "print(x == 6)\n",
    "\n",
    "#3.\n",
    "print(y > 0)\n",
    "\n",
    "#4.\n",
    "print(x <= y)\n",
    "\n",
    "#5. \n",
    "print(x + y == 42)\n",
    "\n",
    "#6.\n",
    "print(a == b)\n",
    "\n",
    "#7.\n",
    "print(a == 'Moring')"
   ]
  },
  {
   "cell_type": "markdown",
   "metadata": {},
   "source": [
    "## Excercise 2.1\n",
    "write a program where you define a variable called color and assign a color name (e.g., red) to the variable. Then, check if the color name happens to be your favorite color, print a message to that effect. Otherwise, do not print any response. (Be very careful with punctuation in this program. The if clause must end with a colon, or python will complain.)"
   ]
  },
  {
   "cell_type": "code",
   "execution_count": 2,
   "metadata": {},
   "outputs": [
    {
     "name": "stdout",
     "output_type": "stream",
     "text": [
      "blue is your favourite colour\n"
     ]
    }
   ],
   "source": [
    "# please write your code here\n",
    "favColour = 'blue'\n",
    "\n",
    "s = str(input('What is your favourite colour: '))\n",
    "if s == favColour:\n",
    "    print('%s is your favourite colour'%s)\n"
   ]
  },
  {
   "cell_type": "markdown",
   "metadata": {},
   "source": [
    "## Excercise 2.2 (Nested dicisions)\n",
    "Suppose you have an integer variable x and you can assign it as any value. Write a program (nested dicisions, an if statement inside another if statement) to determine if x is greater than 20 (20 is not included), print a message 'x is greater than 20', and if x is less than 100 (100 is not included), print a message 'x is less than 100'. Feel free to change the x value to other values -- you'll see that the result changes based on it!  "
   ]
  },
  {
   "cell_type": "code",
   "execution_count": 7,
   "metadata": {},
   "outputs": [
    {
     "name": "stdout",
     "output_type": "stream",
     "text": [
      "None\n",
      "110 is greater than 20\n"
     ]
    }
   ],
   "source": [
    "# please write your code here\n",
    "x = int(input('Please insert a number: '))\n",
    "\n",
    "if x > 20:\n",
    "\n",
    "    if x < 100:\n",
    "        print('%d is greater than 20 and less than 100'%x)\n",
    "    else:\n",
    "        print(None)\n",
    "    \n",
    "    print('%d is greater than 20'%x)\n"
   ]
  },
  {
   "cell_type": "markdown",
   "metadata": {},
   "source": [
    "## Excercise 2.3\n",
    "Now return to excercie 2.1 and modify your program so that it prints one message if the color name is your favorite color, and a different message if not. Feel free to change the color value to other color names -- you'll see that the result changes based on it!  In addition, your program should print a final message (e.g.,'Bye')."
   ]
  },
  {
   "cell_type": "code",
   "execution_count": 16,
   "metadata": {},
   "outputs": [
    {
     "name": "stdout",
     "output_type": "stream",
     "text": [
      "0 is not my favourite colour\n",
      "Bye\n"
     ]
    }
   ],
   "source": [
    "# please write your code here\n",
    "favColour = 'blue'\n",
    "\n",
    "s = str(input('What is your favourite colour: '))\n",
    "if s == favColour:\n",
    "    print('%s is your favourite colour'%s)\n",
    "else:\n",
    "    print('%s is not my favourite colour'%s)\n",
    "\n",
    "print('Bye')\n"
   ]
  },
  {
   "cell_type": "markdown",
   "metadata": {},
   "source": [
    "## Excercise 2.4 \n",
    "Suppose you have a integer variable called num and you can assign any value to it. Write a program to check if the value of num is positive or negative or zero and display an appropriate message. In addition, your program should print a final message (e.g.,'Bye').(Be very careful with punctuation in this program. The if, elif, else must end with a colon, or python will complain.)"
   ]
  },
  {
   "cell_type": "code",
   "execution_count": 17,
   "metadata": {},
   "outputs": [
    {
     "name": "stdout",
     "output_type": "stream",
     "text": [
      "0 is equal to zero\n",
      "Bye\n"
     ]
    }
   ],
   "source": [
    "# please write your code here\n",
    "num = int(input('Please insert a num: '))\n",
    "\n",
    "if num > 0:\n",
    "    print('%d is positive'%num)\n",
    "elif num < 0:\n",
    "    print('%d is negative'%num)\n",
    "else:\n",
    "    print('%d is equal to zero'%num)\n",
    "print('Bye')"
   ]
  },
  {
   "cell_type": "markdown",
   "metadata": {},
   "source": [
    "### Exercise 3.1 \n",
    "We have three variables a = 7, b = 5, c = 5. For the following logical operations, write a boolean expression capturing the meaning of each operation below, and print the value of the expression. The first one is done as an example.\n",
    "\n",
    "1. a greater than b and b equals to c\n",
    "\n",
    "2. a less than b and b equals to c\n",
    "\n",
    "3. a equals to b and b greater than c\n",
    "\n",
    "4. a equals to b or b equals to c\n",
    "\n",
    "5. a equals to b or b greater than c\n",
    "\n",
    "6. a less than b or b greater than c\n",
    "\n",
    "7. not a\n",
    "\n",
    "8. not b\n"
   ]
  },
  {
   "cell_type": "code",
   "execution_count": 18,
   "metadata": {},
   "outputs": [
    {
     "name": "stdout",
     "output_type": "stream",
     "text": [
      "True\n",
      "False\n",
      "False\n",
      "True\n",
      "False\n",
      "False\n",
      "False\n",
      "False\n"
     ]
    }
   ],
   "source": [
    "# please write your code here\n",
    "a = 7\n",
    "b = 5\n",
    "c = 5\n",
    "\n",
    "#1. \n",
    "print(a > b and b == c)\n",
    "\n",
    "#2. \n",
    "print(a < 5 and b == c)\n",
    "\n",
    "#3. \n",
    "print(a == b and b > c)\n",
    "\n",
    "#4. \n",
    "print(a == b or b == c)\n",
    "\n",
    "#5. \n",
    "print(a == b or b > c)\n",
    "\n",
    "#6.\n",
    "print(a < b or b > c)\n",
    "\n",
    "#7.\n",
    "print(not a)\n",
    "\n",
    "#8. \n",
    "print(not b)\n",
    "\n"
   ]
  },
  {
   "cell_type": "markdown",
   "metadata": {},
   "source": [
    "## Excercise 3.2"
   ]
  },
  {
   "cell_type": "markdown",
   "metadata": {},
   "source": [
    "Considering the variables a, b, c in Example 3.1, write a program using if...elif...else statement: if b greater than a and b equals to c, print a message 'hello python', if b less than a and b equals to c, print a message 'hello world', otherwise, print a message 'hello everyone'. Feel free to change the values of variable a, b, and c to other values and see diferent results!\n",
    " "
   ]
  },
  {
   "cell_type": "code",
   "execution_count": 21,
   "metadata": {},
   "outputs": [
    {
     "name": "stdout",
     "output_type": "stream",
     "text": [
      "hello everyone\n"
     ]
    }
   ],
   "source": [
    "# please write your code here\n",
    "a = 3 \n",
    "b = 3\n",
    "c = 5\n",
    "\n",
    "if b > a and b == c:\n",
    "    print('hello python')\n",
    "elif b < a and b == c:\n",
    "    print('hello world')\n",
    "else:\n",
    "    print('hello everyone')\n"
   ]
  }
 ],
 "metadata": {
  "kernelspec": {
   "display_name": "Python 3.6.8 64-bit",
   "language": "python",
   "name": "python3"
  },
  "language_info": {
   "codemirror_mode": {
    "name": "ipython",
    "version": 3
   },
   "file_extension": ".py",
   "mimetype": "text/x-python",
   "name": "python",
   "nbconvert_exporter": "python",
   "pygments_lexer": "ipython3",
   "version": "3.6.8"
  },
  "vscode": {
   "interpreter": {
    "hash": "65941516f1007360cc73503517f11d28cf4250adaeef93888879502262634ca8"
   }
  }
 },
 "nbformat": 4,
 "nbformat_minor": 4
}
