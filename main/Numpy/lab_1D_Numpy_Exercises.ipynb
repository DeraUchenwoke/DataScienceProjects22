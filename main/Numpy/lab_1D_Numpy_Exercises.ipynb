{
 "cells": [
  {
   "cell_type": "markdown",
   "metadata": {},
   "source": [
    "# Exercises"
   ]
  },
  {
   "cell_type": "markdown",
   "metadata": {},
   "source": [
    "1. Create a 1D array of numbers from 0 to 6:"
   ]
  },
  {
   "cell_type": "code",
   "execution_count": 41,
   "metadata": {},
   "outputs": [
    {
     "data": {
      "text/plain": [
       "array([0, 1, 2, 3, 4, 5, 6])"
      ]
     },
     "execution_count": 41,
     "metadata": {},
     "output_type": "execute_result"
    }
   ],
   "source": [
    "# please write your code here:\n",
    "import numpy as np\n",
    "\n",
    "a = np.array([0, 1, 2, 3, 4, 5, 6])\n",
    "a"
   ]
  },
  {
   "cell_type": "markdown",
   "metadata": {},
   "source": [
    "2. Create a 1D numpy array of all boolean True (you may find [**numpy.full()**](https://numpy.org/doc/stable/reference/generated/numpy.full.html) useful):"
   ]
  },
  {
   "cell_type": "code",
   "execution_count": 40,
   "metadata": {},
   "outputs": [
    {
     "data": {
      "text/plain": [
       "array([ True,  True,  True])"
      ]
     },
     "execution_count": 40,
     "metadata": {},
     "output_type": "execute_result"
    }
   ],
   "source": [
    "# please write your code here:\n",
    "# solution 1\n",
    "b = np.full(3, True, np.bool) # 3 is num of columns, True is the data to be filled it can also be represented by a 1.\n",
    "b\n"
   ]
  },
  {
   "cell_type": "markdown",
   "metadata": {},
   "source": [
    "3. Write a NumPy program to create 1D numpy array of all zero (size 10) and update sixth value to 5:"
   ]
  },
  {
   "cell_type": "code",
   "execution_count": 9,
   "metadata": {},
   "outputs": [
    {
     "data": {
      "text/plain": [
       "array([0., 0., 0., 0., 0., 5., 0., 0., 0., 0.])"
      ]
     },
     "execution_count": 9,
     "metadata": {},
     "output_type": "execute_result"
    }
   ],
   "source": [
    "# please write your code here:\n",
    "\n",
    "N = 10 # required size of array \n",
    "c = np.zeros(N)\n",
    "c[5] = 5 # update sixth element to 5\n",
    "c"
   ]
  },
  {
   "cell_type": "markdown",
   "metadata": {},
   "source": [
    "4. Write a NumPy program to create an array with values ranging from 2 to 18:"
   ]
  },
  {
   "cell_type": "code",
   "execution_count": 39,
   "metadata": {},
   "outputs": [
    {
     "data": {
      "text/plain": [
       "array([ 2,  3,  4,  5,  6,  7,  8,  9, 10, 11, 12, 13, 14, 15, 16, 17])"
      ]
     },
     "execution_count": 39,
     "metadata": {},
     "output_type": "execute_result"
    }
   ],
   "source": [
    "# please write your code here:\n",
    "d = np.linspace(2, 18, 8, endpoint=False) # including 2 to 18 (not included) with 8 points.\n",
    "d\n",
    "\n",
    "# OR \n",
    "d1 = np.arange(2, 18)\n",
    "d1"
   ]
  },
  {
   "cell_type": "markdown",
   "metadata": {},
   "source": [
    "5. Write a NumPy program to find the maximum and minimum values along the given axis of an array:"
   ]
  },
  {
   "cell_type": "code",
   "execution_count": 16,
   "metadata": {},
   "outputs": [
    {
     "name": "stdout",
     "output_type": "stream",
     "text": [
      "2.0 16.0\n"
     ]
    }
   ],
   "source": [
    "# please write your code here:\n",
    "d_max = np.max(d)\n",
    "d_min = np.min(d)\n",
    "print(d_min, d_max)\n"
   ]
  },
  {
   "cell_type": "markdown",
   "metadata": {},
   "source": [
    "6. Write a NumPy program to creat two 1D arrays and implement the subtraction between two arrays:"
   ]
  },
  {
   "cell_type": "code",
   "execution_count": 17,
   "metadata": {},
   "outputs": [
    {
     "name": "stdout",
     "output_type": "stream",
     "text": [
      "[ -2 -93   1   6   3]\n"
     ]
    }
   ],
   "source": [
    "# please write your code here:\n",
    "e = np.array([8, 7, 3, 9, 10])\n",
    "f = np.array([10, 100, 2, 3, 7])\n",
    "\n",
    "print(e - f)"
   ]
  },
  {
   "cell_type": "markdown",
   "metadata": {},
   "source": [
    "7. Write a NumPy program to creat one 1D array and multiply the numpy array with -2:"
   ]
  },
  {
   "cell_type": "code",
   "execution_count": 18,
   "metadata": {},
   "outputs": [
    {
     "name": "stdout",
     "output_type": "stream",
     "text": [
      "[-16 -14  -6 -18 -20]\n"
     ]
    }
   ],
   "source": [
    "# please write your code here:\n",
    "g = np.array([8, 7, 3, 9, 10])\n",
    "print(g * -2)"
   ]
  },
  {
   "cell_type": "markdown",
   "metadata": {},
   "source": [
    "8. Write a NumPy program to creat an array **x** with 50 random integers from 1 to 1000:"
   ]
  },
  {
   "cell_type": "code",
   "execution_count": 38,
   "metadata": {},
   "outputs": [
    {
     "name": "stdout",
     "output_type": "stream",
     "text": [
      "[235 259 891 768  27 278 810 897 353 563 725 930 809 305  51 420 233 154\n",
      "  25 273 871 510 232 179 180 802 811 540 681 156 922 956 861 571 366 945\n",
      " 568  46 645 228 112 902 345 202 331 607 756 769 218 641]\n"
     ]
    }
   ],
   "source": [
    "# please write your code here:\n",
    "\n",
    "h = np.random.randint(1, 1000, size = 50)\n",
    "print(h)\n"
   ]
  },
  {
   "cell_type": "markdown",
   "metadata": {},
   "source": [
    "### *Create your own question and answer it."
   ]
  },
  {
   "cell_type": "code",
   "execution_count": 35,
   "metadata": {},
   "outputs": [
    {
     "data": {
      "text/plain": [
       "(0.0, 9.42477796076938)"
      ]
     },
     "execution_count": 35,
     "metadata": {},
     "output_type": "execute_result"
    },
    {
     "data": {
      "image/png": "[encoded data removed]",
      "text/plain": [
       "<Figure size 432x288 with 1 Axes>"
      ]
     },
     "metadata": {
      "needs_background": "light"
     },
     "output_type": "display_data"
    }
   ],
   "source": [
    "# create a plot of a cos function in the same style of the example for sine:\n",
    "\n",
    "import matplotlib.pyplot as plt\n",
    "\n",
    "x = np.linspace(0, 3*np.pi, num=200)\n",
    "y = np.cos(x)\n",
    "plt.plot(x, y)\n",
    "\n",
    "# limit x axis\n",
    "plt.xlim([0, 3*np.pi])\n"
   ]
  }
 ],
 "metadata": {
  "kernelspec": {
   "display_name": "Python 3",
   "language": "python",
   "name": "python3"
  },
  "language_info": {
   "codemirror_mode": {
    "name": "ipython",
    "version": 3
   },
   "file_extension": ".py",
   "mimetype": "text/x-python",
   "name": "python",
   "nbconvert_exporter": "python",
   "pygments_lexer": "ipython3",
   "version": "3.6.8"
  },
  "vscode": {
   "interpreter": {
    "hash": "65941516f1007360cc73503517f11d28cf4250adaeef93888879502262634ca8"
   }
  }
 },
 "nbformat": 4,
 "nbformat_minor": 2
}
