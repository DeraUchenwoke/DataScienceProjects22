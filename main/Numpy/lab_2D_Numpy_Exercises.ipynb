{
 "cells": [
  {
   "cell_type": "markdown",
   "metadata": {},
   "source": [
    "# Exercises"
   ]
  },
  {
   "cell_type": "markdown",
   "metadata": {},
   "source": [
    "1. Make an all-ones array shape (5, 5):"
   ]
  },
  {
   "cell_type": "code",
   "execution_count": 1,
   "metadata": {},
   "outputs": [
    {
     "data": {
      "text/plain": [
       "array([[1., 1., 1., 1., 1.],\n",
       "       [1., 1., 1., 1., 1.],\n",
       "       [1., 1., 1., 1., 1.],\n",
       "       [1., 1., 1., 1., 1.],\n",
       "       [1., 1., 1., 1., 1.]])"
      ]
     },
     "execution_count": 1,
     "metadata": {},
     "output_type": "execute_result"
    }
   ],
   "source": [
    "# please write your code here:\n",
    "import numpy as np\n",
    "\n",
    "a = np.ones((5, 5)) # 5 rows 5 columns\n",
    "a"
   ]
  },
  {
   "cell_type": "markdown",
   "metadata": {},
   "source": [
    "2. Write a NumPy program to creat two 2D arrays and implement the addition between two arrays:"
   ]
  },
  {
   "cell_type": "code",
   "execution_count": 8,
   "metadata": {},
   "outputs": [
    {
     "name": "stdout",
     "output_type": "stream",
     "text": [
      "[[ 8  9  4]\n",
      " [12  5  3]]\n"
     ]
    }
   ],
   "source": [
    "# please write your code here:\n",
    "b = np.array([[3, 1, 2], [3, 2, 1]]) # 2 rows 3 columns\n",
    "c = np.array([[5, 8, 2,], [9, 3, 2]])\n",
    "\n",
    "print(b + c)"
   ]
  },
  {
   "cell_type": "markdown",
   "metadata": {},
   "source": [
    "3. Creat a 2D array and generate a new array containing its 2nd and 3rd rows."
   ]
  },
  {
   "cell_type": "code",
   "execution_count": 15,
   "metadata": {},
   "outputs": [
    {
     "data": {
      "text/plain": [
       "array([[1, 2, 3],\n",
       "       [2, 1, 3]])"
      ]
     },
     "execution_count": 15,
     "metadata": {},
     "output_type": "execute_result"
    }
   ],
   "source": [
    "# please write your code here:\n",
    "d = np.array([[3, 2, 1], [1, 2, 3], [2, 1, 3]])\n",
    "d1 = np.array([d[1, :], d[2, :]])\n",
    "\n",
    "# OR: \n",
    "d2 = d[1:3, :]\n",
    "d2"
   ]
  },
  {
   "cell_type": "markdown",
   "metadata": {},
   "source": [
    "4. Creat two 2D arrays and do multiplication of two arrays.Please try to use [**.multiply()**](https://numpy.org/doc/stable/reference/generated/numpy.multiply.html) ."
   ]
  },
  {
   "cell_type": "code",
   "execution_count": 14,
   "metadata": {},
   "outputs": [
    {
     "data": {
      "text/plain": [
       "array([[15,  8,  4],\n",
       "       [27,  6,  2]])"
      ]
     },
     "execution_count": 14,
     "metadata": {},
     "output_type": "execute_result"
    }
   ],
   "source": [
    "# please write your code here:\n",
    "e = np.multiply(b, c)\n",
    "e"
   ]
  }
 ],
 "metadata": {
  "kernelspec": {
   "display_name": "Python 3",
   "language": "python",
   "name": "python3"
  },
  "language_info": {
   "codemirror_mode": {
    "name": "ipython",
    "version": 3
   },
   "file_extension": ".py",
   "mimetype": "text/x-python",
   "name": "python",
   "nbconvert_exporter": "python",
   "pygments_lexer": "ipython3",
   "version": "3.6.8"
  },
  "vscode": {
   "interpreter": {
    "hash": "65941516f1007360cc73503517f11d28cf4250adaeef93888879502262634ca8"
   }
  }
 },
 "nbformat": 4,
 "nbformat_minor": 2
}
