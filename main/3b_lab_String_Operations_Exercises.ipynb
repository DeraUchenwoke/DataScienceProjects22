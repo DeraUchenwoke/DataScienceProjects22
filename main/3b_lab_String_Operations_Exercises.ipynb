{
 "cells": [
  {
   "cell_type": "markdown",
   "metadata": {
    "colab_type": "text",
    "id": "s6XN35jWCBQl"
   },
   "source": [
    "## Exercises"
   ]
  },
  {
   "cell_type": "markdown",
   "metadata": {
    "colab_type": "text",
    "id": "f9MEzYpuCBQl"
   },
   "source": [
    "1.  Write a Python program to calculate the length of a string"
   ]
  },
  {
   "cell_type": "code",
   "execution_count": 1,
   "metadata": {
    "colab": {},
    "colab_type": "code",
    "id": "aV829TOkCBQl"
   },
   "outputs": [
    {
     "name": "stdout",
     "output_type": "stream",
     "text": [
      "21\n"
     ]
    }
   ],
   "source": [
    "# please write your code below and press Shift+Enter to see the result:\n",
    "s = 'sdnfsndfipsfipwemfopw'\n",
    "strLen = len(s)\n",
    "print(strLen)"
   ]
  },
  {
   "cell_type": "markdown",
   "metadata": {
    "colab_type": "text",
    "id": "zh7kmMupCBQo"
   },
   "source": [
    "2.  Write a Python program to get a string made of the first 2 and the last 2 characters from the given string s1. "
   ]
  },
  {
   "cell_type": "code",
   "execution_count": 4,
   "metadata": {
    "colab": {},
    "colab_type": "code",
    "id": "sNAOZm8SCBQo"
   },
   "outputs": [
    {
     "name": "stdout",
     "output_type": "stream",
     "text": [
      "sdpw\n"
     ]
    }
   ],
   "source": [
    "# please write your code below and press Shift+Enter to see the result:\n",
    "s1 = 'sdnfsndfipsfipwemfopw'\n",
    "startStr = s1[0:2]\n",
    "endStr = s1[strLen - 2: strLen]\n",
    "newStr = startStr + endStr\n",
    "print(newStr)"
   ]
  },
  {
   "cell_type": "markdown",
   "metadata": {},
   "source": [
    "3. Write a Python program to get a single string from two given strings, separated by a space and a single quote."
   ]
  },
  {
   "cell_type": "code",
   "execution_count": 5,
   "metadata": {},
   "outputs": [
    {
     "name": "stdout",
     "output_type": "stream",
     "text": [
      "hello 'world\n"
     ]
    }
   ],
   "source": [
    "# please write your code below and press Shift+Enter to see the result:\n",
    "s1 = 'hello'\n",
    "s2 = 'world'\n",
    "newStr = s1 + \" \\'\" + s2\n",
    "print(newStr)"
   ]
  },
  {
   "cell_type": "markdown",
   "metadata": {},
   "source": [
    "4. Write a Python program to add 'ing' at the end of a given string (length should be at least 3)."
   ]
  },
  {
   "cell_type": "code",
   "execution_count": 6,
   "metadata": {},
   "outputs": [
    {
     "name": "stdout",
     "output_type": "stream",
     "text": [
      "helping\n"
     ]
    }
   ],
   "source": [
    "# please write your code below and press Shift+Enter to see the result:\n",
    "s1 = 'help'\n",
    "newStr = s1 + 'ing'\n",
    "print(newStr)"
   ]
  },
  {
   "cell_type": "markdown",
   "metadata": {
    "colab_type": "text",
    "id": "Xi5eglHfCBQ4"
   },
   "source": [
    "5. Convert the variable s2 to uppercase:"
   ]
  },
  {
   "cell_type": "code",
   "execution_count": 7,
   "metadata": {
    "colab": {},
    "colab_type": "code",
    "id": "2ubCXPjYCBQ4"
   },
   "outputs": [
    {
     "name": "stdout",
     "output_type": "stream",
     "text": [
      "BAP\n"
     ]
    }
   ],
   "source": [
    "# please write your code below and press Shift+Enter to see the result:\n",
    "s2 = 'bap'\n",
    "s2 = s2.upper()\n",
    "print(s2)"
   ]
  },
  {
   "cell_type": "markdown",
   "metadata": {
    "colab_type": "text",
    "id": "aTE2VS4rCBQ8"
   },
   "source": [
    "6. In the variable s3, replace the sub-string <code>monday</code> with <code>sunday</code>:"
   ]
  },
  {
   "cell_type": "code",
   "execution_count": 10,
   "metadata": {},
   "outputs": [
    {
     "name": "stdout",
     "output_type": "stream",
     "text": [
      "sunday\n"
     ]
    }
   ],
   "source": [
    "# please write your code below and press Shift+Enter to see the result:\n",
    "s3 = 'monday'\n",
    "s3 = s3.replace('monday', 'sunday')\n",
    "print(s3)"
   ]
  },
  {
   "cell_type": "markdown",
   "metadata": {},
   "source": [
    "7. Write a Python program to get the position of the substring 'python' in a given string F. You may find the **find()** method be very useful. You can check more the method in https://www.w3schools.com/python/python_ref_string.asp if you are not sure."
   ]
  },
  {
   "cell_type": "code",
   "execution_count": 12,
   "metadata": {},
   "outputs": [
    {
     "name": "stdout",
     "output_type": "stream",
     "text": [
      "26\n",
      "26\n"
     ]
    }
   ],
   "source": [
    "# please write your code below and press Shift+Enter to see the result:\n",
    "F = 'https://www.w3schools.com/python/ref'\n",
    "\n",
    "print(F.find('python')) # returns the start index of python "
   ]
  },
  {
   "cell_type": "code",
   "execution_count": null,
   "metadata": {},
   "outputs": [],
   "source": []
  }
 ],
 "metadata": {
  "colab": {
   "collapsed_sections": [],
   "name": "COP504_String_Operations.ipynb",
   "provenance": []
  },
  "kernelspec": {
   "display_name": "Python 3.6.8 64-bit",
   "language": "python",
   "name": "python3"
  },
  "language_info": {
   "codemirror_mode": {
    "name": "ipython",
    "version": 3
   },
   "file_extension": ".py",
   "mimetype": "text/x-python",
   "name": "python",
   "nbconvert_exporter": "python",
   "pygments_lexer": "ipython3",
   "version": "3.6.8"
  },
  "vscode": {
   "interpreter": {
    "hash": "65941516f1007360cc73503517f11d28cf4250adaeef93888879502262634ca8"
   }
  }
 },
 "nbformat": 4,
 "nbformat_minor": 1
}
