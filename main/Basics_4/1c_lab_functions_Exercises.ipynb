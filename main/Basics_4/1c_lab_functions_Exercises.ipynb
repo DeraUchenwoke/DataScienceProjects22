{
 "cells": [
  {
   "cell_type": "markdown",
   "metadata": {},
   "source": [
    "### Exercises"
   ]
  },
  {
   "cell_type": "markdown",
   "metadata": {},
   "source": [
    "#### 1. Write a Python function to find the Max of three numbers."
   ]
  },
  {
   "cell_type": "code",
   "execution_count": 38,
   "metadata": {},
   "outputs": [
    {
     "name": "stdout",
     "output_type": "stream",
     "text": [
      "3\n"
     ]
    }
   ],
   "source": [
    "def findMax(a, b, c):\n",
    "    # assume max value is one of the inputs\n",
    "    maxVal = a\n",
    "    if b > a:\n",
    "        maxVal = b\n",
    "    if c > a:\n",
    "        maxVal = c\n",
    "    return maxVal\n",
    "\n",
    "print(findMax(1, 2, 3))\n"
   ]
  },
  {
   "cell_type": "markdown",
   "metadata": {},
   "source": [
    "#### 2.  Write a Python function to sum all the numbers in a list"
   ]
  },
  {
   "cell_type": "code",
   "execution_count": 10,
   "metadata": {},
   "outputs": [
    {
     "name": "stdout",
     "output_type": "stream",
     "text": [
      "50\n"
     ]
    }
   ],
   "source": [
    "def listSum(nums):\n",
    "    sum = 0\n",
    "    for i in nums:\n",
    "        sum += i\n",
    "    return sum\n",
    "\n",
    "myList = [3, 5, 24, 5, 6, 7] # should return 50\n",
    "print(listSum(myList))"
   ]
  },
  {
   "cell_type": "markdown",
   "metadata": {},
   "source": [
    "#### 3. Write a Python function to multiply all the numbers in a list"
   ]
  },
  {
   "cell_type": "code",
   "execution_count": 11,
   "metadata": {},
   "outputs": [
    {
     "name": "stdout",
     "output_type": "stream",
     "text": [
      "75600\n"
     ]
    }
   ],
   "source": [
    "def listProduct(nums):\n",
    "    product = 1\n",
    "    for i in nums:\n",
    "        product *= i\n",
    "    return product\n",
    "\n",
    "myList = [3, 5, 24, 5, 6, 7] # should return 75600\n",
    "print(listProduct(myList))"
   ]
  },
  {
   "cell_type": "markdown",
   "metadata": {},
   "source": [
    "#### 4. Write a Python function that calculates the number of upper case letters and lower case letters. Please check the [**.isupper()**](https://www.w3schools.com/python/ref_string_isupper.asp) and [**.islower()**](https://www.w3schools.com/python/ref_string_islower.asp)"
   ]
  },
  {
   "cell_type": "code",
   "execution_count": 16,
   "metadata": {},
   "outputs": [
    {
     "name": "stdout",
     "output_type": "stream",
     "text": [
      "(6, 4)\n"
     ]
    }
   ],
   "source": [
    "def caseNum(s):\n",
    "    upperCount = 0\n",
    "    lowerCount = 0\n",
    "    for i in s:\n",
    "        if i.isupper():\n",
    "            upperCount += 1\n",
    "        elif i.islower():\n",
    "            lowerCount += 1\n",
    "    return upperCount, lowerCount\n",
    "\n",
    "s = 'heLLo WOrLD' # should return 6 upper case, 4 lower case\n",
    "print(caseNum(s))\n",
    "            "
   ]
  },
  {
   "cell_type": "markdown",
   "metadata": {},
   "source": [
    "#### 5. Write a Python function that takes a list and returns a new list with unique elements of the first list"
   ]
  },
  {
   "cell_type": "code",
   "execution_count": 31,
   "metadata": {},
   "outputs": [
    {
     "name": "stdout",
     "output_type": "stream",
     "text": [
      "[2, 3, 4, 5, 10]\n"
     ]
    }
   ],
   "source": [
    "def uniqueList(nums):\n",
    "    newList = []\n",
    "    for i in nums:\n",
    "        if i not in newList:\n",
    "            newList.append(i)\n",
    "    return newList\n",
    "\n",
    "oldNums = [2, 3, 4, 5, 5, 10, 4, 3]\n",
    "\n",
    "print(uniqueList(oldNums))\n",
    "    \n"
   ]
  },
  {
   "cell_type": "markdown",
   "metadata": {},
   "source": [
    "#### 6. Write a Python program to print the even numbers from a given list"
   ]
  },
  {
   "cell_type": "code",
   "execution_count": 32,
   "metadata": {},
   "outputs": [
    {
     "name": "stdout",
     "output_type": "stream",
     "text": [
      "[2, 4, 10, 4]\n"
     ]
    }
   ],
   "source": [
    "\n",
    "def isEven(nums):\n",
    "    newList = []\n",
    "    for i in nums:\n",
    "        if i % 2 == 0:\n",
    "            newList.append(i)\n",
    "    return newList\n",
    "\n",
    "\n",
    "oldNums = [2, 3, 4, 5, 5, 10, 4, 3]\n",
    "print(isEven(oldNums))"
   ]
  }
 ],
 "metadata": {
  "kernelspec": {
   "display_name": "Python 3.6.8 64-bit",
   "language": "python",
   "name": "python3"
  },
  "language_info": {
   "codemirror_mode": {
    "name": "ipython",
    "version": 3
   },
   "file_extension": ".py",
   "mimetype": "text/x-python",
   "name": "python",
   "nbconvert_exporter": "python",
   "pygments_lexer": "ipython3",
   "version": "3.6.8 (tags/v3.6.8:3c6b436a57, Dec 24 2018, 00:16:47) [MSC v.1916 64 bit (AMD64)]"
  },
  "vscode": {
   "interpreter": {
    "hash": "65941516f1007360cc73503517f11d28cf4250adaeef93888879502262634ca8"
   }
  }
 },
 "nbformat": 4,
 "nbformat_minor": 2
}
