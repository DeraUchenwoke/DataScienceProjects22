{
 "cells": [
  {
   "attachments": {},
   "cell_type": "markdown",
   "metadata": {},
   "source": [
    "# Attendance Record"
   ]
  },
  {
   "attachments": {},
   "cell_type": "markdown",
   "metadata": {},
   "source": [
    "#### Stage 1: Import relevant modules"
   ]
  },
  {
   "cell_type": "code",
   "execution_count": 6,
   "metadata": {},
   "outputs": [],
   "source": [
    "import pandas as pd \n",
    "import sqlite3\n",
    "import matplotlib.pyplot as plt\n",
    "import numpy as np"
   ]
  },
  {
   "attachments": {},
   "cell_type": "markdown",
   "metadata": {},
   "source": [
    "#### Stage 2: Get relevant data from CWDatabase.db and format it to a list."
   ]
  },
  {
   "cell_type": "code",
   "execution_count": 25,
   "metadata": {},
   "outputs": [
    {
     "name": "stdout",
     "output_type": "stream",
     "text": [
      "\n",
      "The sqlite connection is now closed.\n"
     ]
    }
   ],
   "source": [
    "class ReadSQL:\n",
    "    def __init__(self, database):\n",
    "        self.database = database\n",
    "        self.conn = sqlite3.connect(self.database)\n",
    "        self.cur = self.conn.cursor()\n",
    "\n",
    "    def queryColumnsToDataframe(self, studentID, modules, tables):\n",
    "        dfs = []\n",
    "        for i in range(len(modules)):\n",
    "            sub_query1 = 'SELECT Week, ROUND(CAST(SUM(' + studentID + ')'\n",
    "            sub_query2 = ' AS REAL)/COUNT(Week) * 100, 2) AS ' + modules[i]\n",
    "            sub_query3 = ' FROM ' + tables[i][0] + ' a INNER JOIN ' + tables[i][1] + ' b'\n",
    "            sub_query4 = ' ON a.Session_Number = b.Session_Number' + ' GROUP BY Week'\n",
    "            query = sub_query1 + sub_query2 + sub_query3 + sub_query4\n",
    "            # print(query)\n",
    "            try:\n",
    "                df = pd.read_sql_query(query, self.conn)\n",
    "                dfs.append(df)\n",
    "            except Exception as Error:\n",
    "                print('This ID does not exist in the database please try again.')\n",
    "        df = pd.concat(dfs, join = 'outer', axis = 1, sort = False)\n",
    "        # print(dfs)\n",
    "        return df\n",
    "\n",
    "    def formatDataframe(self, df):\n",
    "        df.drop('Week', axis = 1, inplace = True) # drop duplicate week columns\n",
    "        weekNum = df.index + 1\n",
    "        df.insert(loc = 0, column = 'WeekNo', value = weekNum) # insert new week column at the start\n",
    "        df.rename(\n",
    "            columns = {\n",
    "                'COA111':'COA111 (%)', \n",
    "                'COA122':'COA122 (%)'\n",
    "            },\n",
    "            inplace = True\n",
    "        )\n",
    "        return df\n",
    "\n",
    "    def closeDatabase(self):\n",
    "        self.conn.close() \n",
    "        print('\\nThe sqlite connection is now closed.')"
   ]
  },
  {
   "attachments": {},
   "cell_type": "markdown",
   "metadata": {},
   "source": [
    "# Testing"
   ]
  },
  {
   "attachments": {},
   "cell_type": "markdown",
   "metadata": {},
   "source": [
    "### Stage 1: Given student id return the weekly attendance of the student"
   ]
  },
  {
   "cell_type": "code",
   "execution_count": null,
   "metadata": {},
   "outputs": [],
   "source": [
    "sid = str(input('Please enter a student ID i.e., \\'Student123\\': '))\n",
    "sid = sid.strip()\n",
    "\n",
    "test = ReadSQL(database='CWDatabase.db')\n",
    "modules = ['COA111', 'COA122']\n",
    "sessions = [['COA111Sessions', 'COA111Transposed'], ['COA122Sessions', 'COA122Transposed']]\n",
    "\n",
    "df = test.queryColumnsToDataframe(sid, modules, sessions)\n",
    "weeklyAttendance = test.formatDataframe(df)\n",
    "test.closeDatabase()"
   ]
  },
  {
   "attachments": {},
   "cell_type": "markdown",
   "metadata": {},
   "source": [
    "### Stage 2: Plot a bar chart of the student attendance"
   ]
  },
  {
   "cell_type": "code",
   "execution_count": 27,
   "metadata": {},
   "outputs": [
    {
     "name": "stdout",
     "output_type": "stream",
     "text": [
      "The weekly attendance record of Student ID 11:\n"
     ]
    },
    {
     "data": {
      "image/png": "[encoded data removed]",
      "text/plain": [
       "<Figure size 432x288 with 1 Axes>"
      ]
     },
     "metadata": {
      "needs_background": "light"
     },
     "output_type": "display_data"
    }
   ],
   "source": [
    "week = np.array(weeklyAttendance['WeekNo'])\n",
    "\n",
    "plt.bar(week- 0.2, weeklyAttendance['COA111 (%)'], width = 0.4, label = 'COA111') # w/o specifying colour\n",
    "plt.bar(week + 0.2, weeklyAttendance['COA122 (%)'], width = 0.4, label = 'COA122')\n",
    "plt.xlabel('Week Number')\n",
    "plt.ylabel('Attendance')\n",
    "\n",
    "# show the legend, grid and plot\n",
    "plt.legend(loc = 'upper right')\n",
    "plt.grid()\n",
    "\n",
    "print('The weekly attendance record of Student ID %s:'%sid[7:])\n",
    "plt.show()\n"
   ]
  },
  {
   "cell_type": "code",
   "execution_count": 28,
   "metadata": {},
   "outputs": [
    {
     "data": {
      "text/html": [
       "<div>\n",
       "<style scoped>\n",
       "    .dataframe tbody tr th:only-of-type {\n",
       "        vertical-align: middle;\n",
       "    }\n",
       "\n",
       "    .dataframe tbody tr th {\n",
       "        vertical-align: top;\n",
       "    }\n",
       "\n",
       "    .dataframe thead th {\n",
       "        text-align: right;\n",
       "    }\n",
       "</style>\n",
       "<table border=\"1\" class=\"dataframe\">\n",
       "  <thead>\n",
       "    <tr style=\"text-align: right;\">\n",
       "      <th></th>\n",
       "      <th>WeekNo</th>\n",
       "      <th>COA111 (%)</th>\n",
       "      <th>COA122 (%)</th>\n",
       "    </tr>\n",
       "  </thead>\n",
       "  <tbody>\n",
       "    <tr>\n",
       "      <th>0</th>\n",
       "      <td>1</td>\n",
       "      <td>50.0</td>\n",
       "      <td>66.67</td>\n",
       "    </tr>\n",
       "    <tr>\n",
       "      <th>1</th>\n",
       "      <td>2</td>\n",
       "      <td>100.0</td>\n",
       "      <td>66.67</td>\n",
       "    </tr>\n",
       "    <tr>\n",
       "      <th>2</th>\n",
       "      <td>3</td>\n",
       "      <td>50.0</td>\n",
       "      <td>66.67</td>\n",
       "    </tr>\n",
       "    <tr>\n",
       "      <th>3</th>\n",
       "      <td>4</td>\n",
       "      <td>100.0</td>\n",
       "      <td>50.00</td>\n",
       "    </tr>\n",
       "    <tr>\n",
       "      <th>4</th>\n",
       "      <td>5</td>\n",
       "      <td>100.0</td>\n",
       "      <td>33.33</td>\n",
       "    </tr>\n",
       "    <tr>\n",
       "      <th>5</th>\n",
       "      <td>6</td>\n",
       "      <td>NaN</td>\n",
       "      <td>0.00</td>\n",
       "    </tr>\n",
       "  </tbody>\n",
       "</table>\n",
       "</div>"
      ],
      "text/plain": [
       "   WeekNo  COA111 (%)  COA122 (%)\n",
       "0       1        50.0       66.67\n",
       "1       2       100.0       66.67\n",
       "2       3        50.0       66.67\n",
       "3       4       100.0       50.00\n",
       "4       5       100.0       33.33\n",
       "5       6         NaN        0.00"
      ]
     },
     "execution_count": 28,
     "metadata": {},
     "output_type": "execute_result"
    }
   ],
   "source": [
    "weeklyAttendance"
   ]
  },
  {
   "attachments": {},
   "cell_type": "markdown",
   "metadata": {},
   "source": [
    "#### Stage 4: Display list and graph to user. "
   ]
  },
  {
   "cell_type": "code",
   "execution_count": 4,
   "metadata": {},
   "outputs": [],
   "source": [
    "# 1.3 https://stackoverflow.com/questions/28075699/coloring-cells-in-pandas"
   ]
  }
 ],
 "metadata": {
  "kernelspec": {
   "display_name": "Python 3",
   "language": "python",
   "name": "python3"
  },
  "language_info": {
   "codemirror_mode": {
    "name": "ipython",
    "version": 3
   },
   "file_extension": ".py",
   "mimetype": "text/x-python",
   "name": "python",
   "nbconvert_exporter": "python",
   "pygments_lexer": "ipython3",
   "version": "3.6.8"
  },
  "orig_nbformat": 4,
  "vscode": {
   "interpreter": {
    "hash": "65941516f1007360cc73503517f11d28cf4250adaeef93888879502262634ca8"
   }
  }
 },
 "nbformat": 4,
 "nbformat_minor": 2
}
