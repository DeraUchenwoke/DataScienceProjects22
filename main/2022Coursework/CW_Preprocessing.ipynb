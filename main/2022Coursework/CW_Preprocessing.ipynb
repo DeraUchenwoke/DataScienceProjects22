{
 "cells": [
  {
   "attachments": {},
   "cell_type": "markdown",
   "metadata": {},
   "source": [
    "# Preprocessing"
   ]
  },
  {
   "attachments": {},
   "cell_type": "markdown",
   "metadata": {},
   "source": [
    "#### Stage 1: Import relevant modules."
   ]
  },
  {
   "cell_type": "code",
   "execution_count": null,
   "metadata": {},
   "outputs": [],
   "source": [
    "import pandas as pd\n",
    "import sqlite3"
   ]
  },
  {
   "attachments": {},
   "cell_type": "markdown",
   "metadata": {},
   "source": [
    "#### Stage 2: Upload data files (.csv) into the environment as a dataframe.\n"
   ]
  },
  {
   "cell_type": "code",
   "execution_count": null,
   "metadata": {},
   "outputs": [],
   "source": [
    "# gets absolute path of current directory\n",
    "\n",
    "# reads .csv file(s) data then stores it as a dataframe\n",
    "dfCOA111 = pd.read_csv('cop504cwdata/22COA111ModuleRegister.csv')\n",
    "dfCOA122 = pd.read_csv('cop504cwdata/22COA122ModuleRegister.csv')"
   ]
  },
  {
   "cell_type": "code",
   "execution_count": null,
   "metadata": {},
   "outputs": [],
   "source": [
    "dfCOA111"
   ]
  },
  {
   "cell_type": "code",
   "execution_count": null,
   "metadata": {},
   "outputs": [],
   "source": [
    "dfCOA122"
   ]
  },
  {
   "cell_type": "code",
   "execution_count": null,
   "metadata": {},
   "outputs": [],
   "source": [
    "# creates copy to make module sessions data frame\n",
    "dfCOA111Copy = dfCOA111.copy()\n",
    "dfCOA122Copy = dfCOA122.copy()\n",
    "\n",
    "# removes student ID for new 'dfCOA122Sessions' and 'dfCOA111Sessions' dataframe\n",
    "dfCOA111Copy.drop('sid_x', axis = 1, inplace = True)\n",
    "dfCOA122Copy.drop('sid', axis = 1, inplace = True) "
   ]
  },
  {
   "attachments": {},
   "cell_type": "markdown",
   "metadata": {},
   "source": [
    "#### Stage 3: Create dfCOA122Sessions and dfCOA111Sessions dataframes."
   ]
  },
  {
   "cell_type": "code",
   "execution_count": null,
   "metadata": {},
   "outputs": [],
   "source": [
    "############################# FUNCTIONS #############################\n",
    "\n",
    "def splitColumnHeading(df, deliminator, initColumnName, newColumns):\n",
    "    sessionInfo = df.columns.str.split(deliminator) # splits column headings by newline\n",
    "    dfSessionInfo = pd.DataFrame(sessionInfo, columns=[initColumnName]) # stores the list of column information into a new data frame\n",
    "\n",
    "    dfNew = dfSessionInfo[initColumnName].apply(pd.Series) \n",
    "    dfNew.columns = newColumns # creates new columns based on each value in the list \n",
    "    return dfNew\n",
    "\n",
    "def splitColumnInfo(df, newColumns, columnToSplit, deliminator):\n",
    "    df[newColumns] = df[columnToSplit].str.split(deliminator, expand = True)\n",
    "    return df\n",
    "\n",
    "def removeChars(df, columnName, deliminator):\n",
    "    df[columnName] = df[columnName].str.strip(deliminator)\n",
    "    return df\n",
    "\n",
    "def formatForDatetime(df, date, times): # NOTE: 'times' list is in '%H:%M' format\n",
    "    for time in times:\n",
    "        df[time] = df[date] + ' ' + df[time].str.strip() + ':00'\n",
    "    return df \n",
    "\n",
    "######################################################################"
   ]
  },
  {
   "attachments": {},
   "cell_type": "markdown",
   "metadata": {},
   "source": [
    "    3.a Store the details of each session (found in the column heading) into new dataframes."
   ]
  },
  {
   "cell_type": "code",
   "execution_count": null,
   "metadata": {},
   "outputs": [],
   "source": [
    "newSessionColumns = ['Semester_Week', 'Date', 'Time', 'Lecture_Type', 'Room_ID', 'TO_DELETE']\n",
    "initColumn = 'SessionInfo'\n",
    "delim = '\\n'\n",
    "\n",
    "dfCOA111Sessions =  splitColumnHeading(dfCOA111Copy, delim, initColumn, newSessionColumns)\n",
    "dfCOA122Sessions = splitColumnHeading(dfCOA122Copy,  delim, initColumn, newSessionColumns)"
   ]
  },
  {
   "attachments": {},
   "cell_type": "markdown",
   "metadata": {},
   "source": [
    "    3.b Split the column values into more distinct columns."
   ]
  },
  {
   "cell_type": "code",
   "execution_count": null,
   "metadata": {},
   "outputs": [],
   "source": [
    "newColumns = [['Semester','Week'], ['Day','Date'], ['Start_Time', 'End_Time']]\n",
    "oldColumns = ['Semester_Week', 'Date', 'Time']\n",
    "delims = ['.', ' ', '-'] \n",
    "\n",
    "for col in range(len(oldColumns)):\n",
    "    splitColumnInfo(dfCOA111Sessions, newColumns[col], oldColumns[col], delims[col])\n",
    "    splitColumnInfo(dfCOA122Sessions, newColumns[col], oldColumns[col], delims[col])"
   ]
  },
  {
   "attachments": {},
   "cell_type": "markdown",
   "metadata": {},
   "source": [
    "    3.c Remove deliminators/redundant characters from column values."
   ]
  },
  {
   "cell_type": "code",
   "execution_count": null,
   "metadata": {},
   "outputs": [],
   "source": [
    "columns = ['Date', 'Date', 'Semester', 'Week']\n",
    "delims = ['(', ')', 'S', 'W']\n",
    "\n",
    "for col in range(len(columns)):\n",
    "    removeChars(dfCOA111Sessions, columns[col], delims[col])\n",
    "    removeChars(dfCOA122Sessions, columns[col], delims[col])\n",
    "\n",
    "# For dfCOA122Sessions '...' from the end of 'NOO1' must also be removed\n",
    "removeChars(dfCOA122Sessions, 'Room_ID', '...')"
   ]
  },
  {
   "attachments": {},
   "cell_type": "markdown",
   "metadata": {},
   "source": [
    "    3.d Reformat 'Start_Time' and 'End_Time' into datetime format.\n",
    "    "
   ]
  },
  {
   "cell_type": "code",
   "execution_count": null,
   "metadata": {},
   "outputs": [],
   "source": [
    "oldFormatColumns = ['Start_Time', 'End_Time']\n",
    "dateColumn = 'Date'\n",
    "\n",
    "dfCOA111Sessions = formatForDatetime(dfCOA111Sessions, dateColumn, oldFormatColumns)\n",
    "dfCOA122Sessions = formatForDatetime(dfCOA122Sessions, dateColumn, oldFormatColumns)"
   ]
  },
  {
   "attachments": {},
   "cell_type": "markdown",
   "metadata": {},
   "source": [
    "    3.e Add column name 'Session Number' and remove redundant columns."
   ]
  },
  {
   "cell_type": "code",
   "execution_count": null,
   "metadata": {},
   "outputs": [],
   "source": [
    "dfCOA111Sessions['Session_Number'] = dfCOA111Sessions.index + 1 # Since session numbers do not start from 0\n",
    "dfCOA122Sessions['Session_Number'] = dfCOA122Sessions.index + 1\n",
    "\n",
    "toRemove = ['Semester_Week', 'Time', 'TO_DELETE']\n",
    "dfCOA111Sessions.drop(toRemove, axis = 1, inplace = True) \n",
    "dfCOA122Sessions.drop(toRemove, axis = 1, inplace = True) "
   ]
  },
  {
   "attachments": {},
   "cell_type": "markdown",
   "metadata": {},
   "source": [
    "    3.f Display final dfCOA111Sessions and dfCOA122Sessions"
   ]
  },
  {
   "cell_type": "code",
   "execution_count": null,
   "metadata": {},
   "outputs": [],
   "source": [
    "dfCOA111Sessions"
   ]
  },
  {
   "cell_type": "code",
   "execution_count": null,
   "metadata": {},
   "outputs": [],
   "source": [
    "dfCOA122Sessions"
   ]
  },
  {
   "attachments": {},
   "cell_type": "markdown",
   "metadata": {},
   "source": [
    "#### Stage 4: Cleaning dfCOA11 and dfCOA122 i.e., dfCOA111Clean and dfCOA122Clean"
   ]
  },
  {
   "attachments": {},
   "cell_type": "markdown",
   "metadata": {},
   "source": [
    "    4.a Create a copy of the original dataframes."
   ]
  },
  {
   "cell_type": "code",
   "execution_count": null,
   "metadata": {},
   "outputs": [],
   "source": [
    "dfCOA111Clean = dfCOA111.copy()\n",
    "dfCOA122Clean = dfCOA122.copy()"
   ]
  },
  {
   "cell_type": "code",
   "execution_count": null,
   "metadata": {},
   "outputs": [],
   "source": [
    "\n"
   ]
  },
  {
   "attachments": {},
   "cell_type": "markdown",
   "metadata": {},
   "source": [
    "    4.b Rename the columns of copied data frames with a unique session id/number."
   ]
  },
  {
   "cell_type": "code",
   "execution_count": null,
   "metadata": {},
   "outputs": [],
   "source": [
    "dfCOA111Clean.set_axis(['SID', 'S1', 'S2', 'S3', 'S4', 'S5', 'S6', 'S7', 'S8', 'S9', 'S10', 'S11', 'S12', 'S13', 'S14'], axis = 1, inplace = True)\n",
    "dfCOA122Clean.set_axis(['SID', 'S1', 'S2', 'S3', 'S4', 'S5', 'S6', 'S7', 'S8', 'S9', 'S10', 'S11', 'S12', 'S13', 'S14',\n",
    "'S15', 'S16', 'S17', 'S18', 'S19'], axis = 1, inplace = True)"
   ]
  },
  {
   "attachments": {},
   "cell_type": "markdown",
   "metadata": {},
   "source": [
    "    4.c Replace the following: \n",
    "        - 'Ex' with a null value\n",
    "        - 'GPS' with True (boolean)\n",
    "        - 'X' with False (boolean)"
   ]
  },
  {
   "cell_type": "code",
   "execution_count": null,
   "metadata": {},
   "outputs": [],
   "source": [
    "# COA111\n",
    "dfCOA111Clean.replace('Ex', None, inplace = True)\n",
    "dfCOA111Clean.replace('GPS', True, inplace = True)\n",
    "dfCOA111Clean.replace('X', False, inplace = True)\n",
    "\n",
    "# COA122\n",
    "dfCOA122Clean.replace('Ex', None, inplace = True)\n",
    "dfCOA122Clean.replace('GPS', True, inplace = True)\n",
    "dfCOA122Clean.replace('X', False, inplace = True)"
   ]
  },
  {
   "attachments": {},
   "cell_type": "markdown",
   "metadata": {},
   "source": [
    "    4.d Remove rows and columns which comprise of just NULL values."
   ]
  },
  {
   "cell_type": "code",
   "execution_count": null,
   "metadata": {},
   "outputs": [],
   "source": [
    " # drops rows where all values (aside from the student id column) are NULL\n",
    "dfCOA111Clean.dropna(axis = 0, how = 'all', subset = dfCOA111Clean.columns[1:len(dfCOA111Clean.columns)], inplace = True)\n",
    "dfCOA111Clean.dropna(axis = 1, how = 'all', inplace = True) # drops columns where all values are NULL\n",
    "\n",
    "dfCOA122Clean.dropna(axis = 0, how = 'all', subset = dfCOA122Clean.columns[1:len(dfCOA122Clean.columns)], inplace = True)\n",
    "dfCOA122Clean.dropna(axis = 1, how = 'all', inplace = True)"
   ]
  },
  {
   "cell_type": "code",
   "execution_count": null,
   "metadata": {},
   "outputs": [],
   "source": [
    "dfCOA111Clean"
   ]
  },
  {
   "cell_type": "code",
   "execution_count": null,
   "metadata": {},
   "outputs": [],
   "source": [
    "dfCOA122Clean"
   ]
  },
  {
   "attachments": {},
   "cell_type": "markdown",
   "metadata": {},
   "source": [
    "    4.e Create a database in SQlite and save it as CWDatabase.db.\n",
    "    Then create tables in sql and store the dataframes* into these tables.\n",
    "    (*dfCOA111Sessions, dfCOA111Clean, dfCOA122Sessions and dfCOA122Clean)"
   ]
  },
  {
   "cell_type": "code",
   "execution_count": null,
   "metadata": {},
   "outputs": [],
   "source": [
    "try:\n",
    "    conn = sqlite3.connect('CWDatabase.db') # connect to the empty database\n",
    "    cursor = conn.cursor()\n",
    "\n",
    "    ################## COA111 ##################\n",
    "\n",
    "    # insert tables dfCOA111 and dfCOA111Sessions into database\n",
    "    dfCOA111Clean.to_sql('COA111', conn, if_exists = 'replace', index = False)\n",
    "    dfCOA111Sessions.to_sql('COA111Sessions', conn, if_exists = 'replace', index = False)\n",
    "\n",
    "    # check data type of tables \n",
    "    cursor.execute('PRAGMA table_info (COA111)')\n",
    "    print('------- Original COA111: Column Name, Data Type -------')\n",
    "    for result in cursor:\n",
    "        print(result[1:3])\n",
    "\n",
    "    cursor.execute('PRAGMA table_info (COA111Sessions)')\n",
    "    print('------- Original COA111Sessions: Column Name, Data Type -------')\n",
    "    for result in cursor:\n",
    "        print(result[1:3])\n",
    "\n",
    "    # correct data types of dfCOA111Sessions\n",
    "    cursor.execute('PRAGMA foreign_keys = off;')\n",
    "    cursor.execute('BEGIN TRANSACTION;')\n",
    "    cursor.execute('ALTER TABLE COA111Sessions RENAME TO COA111Sessions_Old;') # makes a copy of the table\n",
    "    cursor.execute(\n",
    "\n",
    "        '''CREATE TABLE COA111Sessions (\n",
    "            Date DATE,\n",
    "            Lecture_Type VARCHAR, \n",
    "            Room_ID VARCHAR, \n",
    "            Semester INTEGER, \n",
    "            Week INTEGER, \n",
    "            Day VARCHAR, \n",
    "            Start_Time TIMESTAMP, \n",
    "            End_Time TIMESTAMP, \n",
    "            Session_Number INTEGER);\n",
    "        '''\n",
    "    )\n",
    "    cursor.execute(\n",
    "        '''\n",
    "        INSERT INTO COA111Sessions (\n",
    "            Date, \n",
    "            Lecture_Type, \n",
    "            Room_ID, \n",
    "            Semester, \n",
    "            Week, \n",
    "            Day, \n",
    "            Start_Time, \n",
    "            End_Time, \n",
    "            Session_Number) \n",
    "        SELECT Date, Lecture_Type, Room_ID, Semester, Week, Day, Start_Time, End_Time, Session_Number \n",
    "        FROM COA111Sessions_Old;\n",
    "        '''\n",
    "    )\n",
    "    cursor.execute('DROP TABLE COA111Sessions_Old;') # drop table to 'free-up' resources\n",
    "    cursor.execute('COMMIT;')\n",
    "    cursor.execute('PRAGMA foreign_keys = on;')\n",
    "    \n",
    "    # check if data types have been corrected and print the result\n",
    "    cursor.execute('PRAGMA table_info (COA111Sessions)') # returns column name and its data type\n",
    "    print('------- Corrected COA111Sessions: Column Name, Data Type -------')\n",
    "    for result in cursor:\n",
    "        print(result[1:3])\n",
    "    \n",
    "    ############################################\n",
    "\n",
    "\n",
    "    ################## COA122 ##################\n",
    "\n",
    "    # insert tables dfCOA122 and dfCOA122Sessions into database\n",
    "    dfCOA122Clean.to_sql('COA122', conn, if_exists = 'replace', index = False)\n",
    "    dfCOA122Sessions.to_sql('COA122Sessions', conn, if_exists = 'replace', index = False)\n",
    "\n",
    "        # check data type of tables \n",
    "    cursor.execute('PRAGMA table_info (COA122)')\n",
    "    print('------- Original COA122: Column Name, Data Type -------')\n",
    "    for result in cursor:\n",
    "        print(result[1:3])\n",
    "\n",
    "    cursor.execute('PRAGMA table_info (COA122Sessions)')\n",
    "    print('------- Original COA122Sessions: Column Name, Data Type -------')\n",
    "    for result in cursor:\n",
    "        print(result[1:3])\n",
    "\n",
    "    # correct data types of dfCOA122Sessions\n",
    "    cursor.execute('PRAGMA foreign_keys = off;')\n",
    "    cursor.execute('BEGIN TRANSACTION;')\n",
    "    cursor.execute('ALTER TABLE COA122Sessions RENAME TO COA122Sessions_Old;') # makes a copy of the table\n",
    "    cursor.execute(\n",
    "\n",
    "        '''CREATE TABLE COA122Sessions (\n",
    "            Date DATE,\n",
    "            Lecture_Type VARCHAR, \n",
    "            Room_ID VARCHAR, \n",
    "            Semester INTEGER, \n",
    "            Week INTEGER, \n",
    "            Day VARCHAR, \n",
    "            Start_Time TIMESTAMP, \n",
    "            End_Time TIMESTAMP, \n",
    "            Session_Number INTEGER);\n",
    "        '''\n",
    "    )\n",
    "    cursor.execute(\n",
    "        '''\n",
    "        INSERT INTO COA122Sessions (\n",
    "            Date, \n",
    "            Lecture_Type, \n",
    "            Room_ID, \n",
    "            Semester, \n",
    "            Week, \n",
    "            Day, \n",
    "            Start_Time, \n",
    "            End_Time, \n",
    "            Session_Number) \n",
    "        SELECT Date, Lecture_Type, Room_ID, Semester, Week, Day, Start_Time, End_Time, Session_Number \n",
    "        FROM COA122Sessions_Old;\n",
    "        '''\n",
    "    )\n",
    "    cursor.execute('DROP TABLE COA122Sessions_Old;') \n",
    "    cursor.execute('COMMIT;')\n",
    "    cursor.execute('PRAGMA foreign_keys = on;')\n",
    "    cursor.execute('PRAGMA table_info (COA111Sessions)')\n",
    "\n",
    "    print('------- Corrected COA122Sessions: Column Name, Data Type -------')\n",
    "    for result in cursor:\n",
    "        print(result[1:3])\n",
    "    \n",
    "    ############################################\n",
    "\n",
    "    conn.close() # close connection to database\n",
    "\n",
    "except sqlite3.Error as error:\n",
    "    print('Failed to insert table into the database', error)"
   ]
  },
  {
   "attachments": {},
   "cell_type": "markdown",
   "metadata": {},
   "source": [
    "# Testing "
   ]
  },
  {
   "cell_type": "code",
   "execution_count": null,
   "metadata": {},
   "outputs": [],
   "source": [
    "# Test case (1)"
   ]
  }
 ],
 "metadata": {
  "kernelspec": {
   "display_name": "Python 3",
   "language": "python",
   "name": "python3"
  },
  "language_info": {
   "codemirror_mode": {
    "name": "ipython",
    "version": 3
   },
   "file_extension": ".py",
   "mimetype": "text/x-python",
   "name": "python",
   "nbconvert_exporter": "python",
   "pygments_lexer": "ipython3",
   "version": "3.6.8"
  },
  "orig_nbformat": 4,
  "vscode": {
   "interpreter": {
    "hash": "65941516f1007360cc73503517f11d28cf4250adaeef93888879502262634ca8"
   }
  }
 },
 "nbformat": 4,
 "nbformat_minor": 2
}
