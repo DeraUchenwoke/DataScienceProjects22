{
 "cells": [
  {
   "cell_type": "markdown",
   "metadata": {},
   "source": [
    "<h2 id=\"quiz\">Exercises</h2>"
   ]
  },
  {
   "cell_type": "markdown",
   "metadata": {},
   "source": [
    "1. Create a list **mylist**, with the following elements <code>today</code>, <code>hello</code>,  <code>32</code>, <code>[18,29,3,72]</code> and <code>False</code>. "
   ]
  },
  {
   "cell_type": "code",
   "execution_count": 4,
   "metadata": {
    "jupyter": {
     "outputs_hidden": false
    }
   },
   "outputs": [
    {
     "name": "stdout",
     "output_type": "stream",
     "text": [
      "['today', 'hello', 32, [18, 29, 3, 72], False]\n"
     ]
    }
   ],
   "source": [
    "# please write your code below and press Shift+Enter to see the result:\n",
    "mylist = ['today', 'hello', 32, [18, 29, 3, 72], False]\n",
    "print(mylist)"
   ]
  },
  {
   "cell_type": "markdown",
   "metadata": {},
   "source": [
    "2. Find the value stored at index 1,3,4 of **mylist**."
   ]
  },
  {
   "cell_type": "code",
   "execution_count": 5,
   "metadata": {
    "jupyter": {
     "outputs_hidden": false
    }
   },
   "outputs": [
    {
     "name": "stdout",
     "output_type": "stream",
     "text": [
      "hello\n",
      "[18, 29, 3, 72]\n",
      "False\n"
     ]
    }
   ],
   "source": [
    "# please write your code below and press Shift+Enter to see the result:\n",
    "print(mylist[1]) \n",
    "print(mylist[3])\n",
    "print(mylist[4])"
   ]
  },
  {
   "cell_type": "markdown",
   "metadata": {},
   "source": [
    "3. Slice the elements stored at index 1, 2 and 3 of **mylist**."
   ]
  },
  {
   "cell_type": "code",
   "execution_count": 6,
   "metadata": {
    "jupyter": {
     "outputs_hidden": false
    }
   },
   "outputs": [
    {
     "name": "stdout",
     "output_type": "stream",
     "text": [
      "['hello', 32, [18, 29, 3, 72]]\n"
     ]
    }
   ],
   "source": [
    "# please write your code below and press Shift+Enter to see the result:\n",
    "print(mylist[1:4])"
   ]
  },
  {
   "cell_type": "markdown",
   "metadata": {},
   "source": [
    "4. Concatenate the following lists A = ['first', 1] and B = ['second', 1, [1, 2]]</code>:"
   ]
  },
  {
   "cell_type": "code",
   "execution_count": 9,
   "metadata": {
    "jupyter": {
     "outputs_hidden": true
    }
   },
   "outputs": [
    {
     "name": "stdout",
     "output_type": "stream",
     "text": [
      "['first', 1, 'second', 1, [1, 2]]\n"
     ]
    }
   ],
   "source": [
    "# please write your code below and press Shift+Enter to see the result:\n",
    "A = ['first', 1]\n",
    "B = ['second', 1, [1, 2]]\n",
    "C = A + B\n",
    "print(C)"
   ]
  },
  {
   "cell_type": "code",
   "execution_count": null,
   "metadata": {},
   "outputs": [],
   "source": []
  }
 ],
 "metadata": {
  "kernelspec": {
   "display_name": "Python 3.6.8 64-bit",
   "language": "python",
   "name": "python3"
  },
  "language_info": {
   "codemirror_mode": {
    "name": "ipython",
    "version": 3
   },
   "file_extension": ".py",
   "mimetype": "text/x-python",
   "name": "python",
   "nbconvert_exporter": "python",
   "pygments_lexer": "ipython3",
   "version": "3.6.8"
  },
  "vscode": {
   "interpreter": {
    "hash": "65941516f1007360cc73503517f11d28cf4250adaeef93888879502262634ca8"
   }
  }
 },
 "nbformat": 4,
 "nbformat_minor": 4
}
